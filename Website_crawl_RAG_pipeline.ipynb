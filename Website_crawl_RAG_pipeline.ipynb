{
 "cells": [
  {
   "cell_type": "code",
   "execution_count": null,
   "metadata": {},
   "outputs": [],
   "source": [
    "import requests\n",
    "from bs4 import BeautifulSoup\n",
    "from langchain.vectorstores import FAISS\n",
    "from langchain.docstore.document import Document\n",
    "from tqdm import tqdm\n",
    "import re\n",
    "from langchain.embeddings import HuggingFaceEmbeddings\n",
    "from pprint import pprint"
   ]
  },
  {
   "cell_type": "code",
   "execution_count": 80,
   "metadata": {},
   "outputs": [],
   "source": [
    "def get_clean_text(text):\n",
    "    \"\"\"Cleans text by removing unwanted characters and excessive whitespace.\"\"\"\n",
    "    text = re.sub(r'\\s+', ' ', text)\n",
    "    text = re.sub(r'[^\\w\\s.,;!?-]', '', text)\n",
    "    return text.strip()"
   ]
  },
  {
   "cell_type": "code",
   "execution_count": 84,
   "metadata": {},
   "outputs": [
    {
     "name": "stdout",
     "output_type": "stream",
     "text": [
      "'This is a test. hello world again! pass  123 ,'\n"
     ]
    }
   ],
   "source": [
    "s=get_clean_text(\"  This is a test.\\n hello world again! pass : 123#$ ,*)  \")\n",
    "pprint(s)"
   ]
  },
  {
   "cell_type": "code",
   "execution_count": null,
   "metadata": {},
   "outputs": [],
   "source": [
    "def prepare_documents(devices_list):\n",
    "    final_document_objects=[]\n",
    "    output_dir = './Winng_design_diagrams'\n",
    "    if os.path.exists(output_dir):\n",
    "        os.rmdir(output_dir)\n",
    "    else:\n",
    "        os.makedirs(output_dir)\n",
    "    \n",
    "    for idx, device_url in tqdm(enumerate(devices_list)):\n",
    "        image_file_path=None\n",
    "        headers = {\n",
    "        \"User-Agent\": \"Mozilla/5.0 (Windows NT 10.0; Win64; x64) AppleWebKit/537.36 (KHTML, like Gecko) Chrome/91.0.4472.124 Safari/537.36\"\n",
    "        }\n",
    "        response = requests.get(device_url, headers=headers)\n",
    "        print(response.status_code)\n",
    "        #print(response.text)\n",
    "        soup = BeautifulSoup(response.content, \"html.parser\")\n",
    "        des=soup.find(class_=\"description\")\n",
    "        img=soup.find_all(\"svg\")\n",
    "        \n",
    "        # Extract the description (all <p> tags before the benefits)\n",
    "        description = \" \".join(p.get_text() for p in des.find_all(\"p\")[:-1])\n",
    "        cleaned_description=get_clean_text(description)\n",
    "        #print(\"Description:\")\n",
    "        #print(description)\n",
    "\n",
    "        # Extract the system benefits (all <li> tags within the <ul>)\n",
    "        benefits = [li.get_text() for li in des.find_all(\"li\")]\n",
    "        #print(\"\\nSystem Benefits:\")\n",
    "        benefits_string=''\n",
    "        for benefit in benefits:\n",
    "            benefits_string=benefits_string+benefit+'.'\n",
    "\n",
    "        cleaned_benefits=get_clean_text(benefits_string)\n",
    "        content_string=cleaned_description+' '+cleaned_benefits\n",
    "\n",
    "        svg_img=soup.find_all(\"svg\")\n",
    "        for i in svg_img:\n",
    "            if('''color-interpolation-filters=\"sRGB\"''' in str(i)):\n",
    "                #print(i)\n",
    "                #print('-'*50)\n",
    "                image_file_path=os.path.join(output_dir,\"block_diagram_{}.svg\".format(idx))\n",
    "                with open(image_file_path, \"w\", encoding=\"utf-8\") as f:\n",
    "                    f.write(str(i))\n",
    "                #print(\"SVG block diagram saved successfully!\")\n",
    "        meta_data_dict={'image_path':image_file_path,'page_url':device_url}\n",
    "        final_document_objects.append(Document(page_content=content_string,metadata=meta_data_dict))\n",
    "    return final_document_objects"
   ]
  },
  {
   "cell_type": "code",
   "execution_count": null,
   "metadata": {},
   "outputs": [
    {
     "name": "stdout",
     "output_type": "stream",
     "text": [
      "200\n",
      "200\n",
      "Starting to prepare documents...\n"
     ]
    },
    {
     "name": "stderr",
     "output_type": "stream",
     "text": [
      "1it [00:01,  1.73s/it]"
     ]
    },
    {
     "name": "stdout",
     "output_type": "stream",
     "text": [
      "200\n"
     ]
    },
    {
     "name": "stderr",
     "output_type": "stream",
     "text": [
      "2it [00:03,  1.57s/it]"
     ]
    },
    {
     "name": "stdout",
     "output_type": "stream",
     "text": [
      "200\n"
     ]
    },
    {
     "name": "stderr",
     "output_type": "stream",
     "text": [
      "3it [00:04,  1.55s/it]"
     ]
    },
    {
     "name": "stdout",
     "output_type": "stream",
     "text": [
      "200\n"
     ]
    },
    {
     "name": "stderr",
     "output_type": "stream",
     "text": [
      "4it [00:06,  1.62s/it]"
     ]
    },
    {
     "name": "stdout",
     "output_type": "stream",
     "text": [
      "200\n"
     ]
    },
    {
     "name": "stderr",
     "output_type": "stream",
     "text": [
      "5it [00:08,  1.61s/it]"
     ]
    },
    {
     "name": "stdout",
     "output_type": "stream",
     "text": [
      "200\n"
     ]
    },
    {
     "name": "stderr",
     "output_type": "stream",
     "text": [
      "6it [00:09,  1.64s/it]"
     ]
    },
    {
     "name": "stdout",
     "output_type": "stream",
     "text": [
      "200\n"
     ]
    },
    {
     "name": "stderr",
     "output_type": "stream",
     "text": [
      "7it [00:11,  1.66s/it]"
     ]
    },
    {
     "name": "stdout",
     "output_type": "stream",
     "text": [
      "200\n"
     ]
    },
    {
     "name": "stderr",
     "output_type": "stream",
     "text": [
      "8it [00:13,  1.65s/it]"
     ]
    },
    {
     "name": "stdout",
     "output_type": "stream",
     "text": [
      "200\n",
      "[Document(metadata={'image_path': './Winng_design_diagrams/block_diagram_0.svg', 'page_url': 'https://www.renesas.com/en/applications/consumer-electronics/computing/ddr5-gaming-dimm'}, page_content='As gaming evolves, customization becomes paramount in the industry. Renesas addresses this demand with its DDR5 system, featuring serial presence detect SPD hubs, power management integrated circuits PMICs, temperature sensors, and a control MCU. This system enables extensive addressable RGB ARGB lighting customization with millions of colors, ensuring enhanced user experience and performance optimization. 48MHz Arm Cortex-M23 MCU provides an I3C interface up to 4.6Mbps..High precision, low power, and small footprint optimized for efficient operation in DDR5 RDIMMs, LRDIMMs, and high-end gaming DIMMs..SPD hub allows the DDR5 system control bus to scale significantly beyond previous generations and enables a new class of data center equipment..PMIC maximizes DDR5 memory performance, density, and reliability while reducing overall system power consumption..'), Document(metadata={'image_path': './Winng_design_diagrams/block_diagram_1.svg', 'page_url': 'https://www.renesas.com/en/applications/consumer-electronics/computing/pc-water-cooling-system-wireless-control'}, page_content='This advanced remotely controlled PC water cooler design integrates a high-efficiency power unit within the PC and features a user-friendly HMI control panel on the desk. Utilizing Bluetooth Low Energy LE for seamless connectivity, this setup offers convenient wireless control over the cooling system. The water cooler effectively dissipates heat from processors and critical components like graphics cards, ensuring optimal performance and reliability in high-performance computing environments. Wireless HMI provides flexibility and user convenience..Bluetooth LE enables smartphone control of the power unit, enhancing ease of use..The MCU manages simultaneous control of multiple pumps and fans, allowing flexibility in cooling configurations..'), Document(metadata={'image_path': './Winng_design_diagrams/block_diagram_2.svg', 'page_url': 'https://www.renesas.com/en/applications/consumer-electronics/computing/smart-pen'}, page_content='This smart pen system is used to record human handwriting and store a copy in a digital format. The pen uses one IR LED to emit light onto the paper and an LED sensor to detect the reflection. The sensor will allow the movement of the pens pattern to be detected and record what is written. The LED and detector records the pens movement.The IR LED is invisible, so the user will not be distracted by any light while writing.Bluetooth Low Energy LE on the pen would transfer the digital data from the pen to a computer or tablet.An EEPROM on board will store the writing in memory for transfer to a notebook.Buttons for audio recording to start and to power onoff the pen.'), Document(metadata={'image_path': './Winng_design_diagrams/block_diagram_3.svg', 'page_url': 'https://www.renesas.com/en/applications/consumer-electronics/home-theater-entertainment/soundbar-bluetooth-streaming'}, page_content='A soundbar, also called a speaker bar, is a special speaker with multiple drivers and is usually put above a computer monitor or under a television or home theater screen. It can significantly improve the sound experience without the complexity of surround sound speakers, wiring, etc. The Soundbar with Bluetooth Streaming design is meant to be compact, generate premium sound, and can be cost-effective. Cost-effective, small-capacity ROM and low pin count 32-bit MCU.High performance power includes voltage supervisors, dual buck regulators and a wide VIN 1A buck regulator.'), Document(metadata={'image_path': './Winng_design_diagrams/block_diagram_4.svg', 'page_url': 'https://www.renesas.com/en/applications/consumer-electronics/home-theater-entertainment/video-ip-phone'}, page_content='This solution is for a video IP phone with Hi-Fi audio support. The phone also has automatic noise cancellation and a voice wake-up function. The system supports large touch panel displays, eliminating the need for mechanical buttons, and provides a scalable IP communication platform. Multi-touch LCD screen with an on-screen virtual keyboard for easier communication.One USB Type-A and one USB Type-C for media storage.Integrated Wi-FiBluetooth.System supports multiple audio sources, handset, headset and speakerphone, and USB headset.Two Gigabit Ethernet available.OS for Linux and Android.Dual power option via 48V power supply or Power over Ethernet PoE.System can auto-detect the headphone plug in to simplify the design no software needed.System can auto-detect handset by a proximity sensor.'), Document(metadata={'image_path': './Winng_design_diagrams/block_diagram_5.svg', 'page_url': 'https://www.renesas.com/en/applications/consumer-electronics/home-theater-entertainment/edge-voice-user-interface-vui'}, page_content='This is an easy-to-use platform for Voice User Interface VUI solutions based on the RA family of 32-bit MCUs. The platform will be used for all VUI solutions provided by Renesas within the Renesas Ready Partner Network. The platform itself enables a local end-point inference voice recognition approach without the necessity of network connectivity. A VUI solution that consists primarily of an RA Arm Cortex-M33 MCU.Up to two digital microphones and two analog microphones.External QSPI flash provides the ability to store voice samples and library data.Communication interfacesPMOD interface Type-2A3A6AUSB Type-C and Micro-B.PMOD interface Type-2A3A6A.USB Type-C and Micro-B.On-board Segger J-Link debuggerprogrammer.'), Document(metadata={'image_path': './Winng_design_diagrams/block_diagram_6.svg', 'page_url': 'https://www.renesas.com/en/applications/consumer-electronics/home-theater-entertainment/high-efficiency-digital-power-supply'}, page_content='This design introduces the first interleaved CrM PFC  LLC power supply utilizing an inverter micro MCU by Renesas. It delivers three distinct output channels main power, audio power, and backlight unit power. The MCU provides digital control for all operations, achieving power efficiency that significantly surpasses conventional analog TV power supplies while maintaining ultra-low power consumption. This design is ideal for modern home theater systems and other consumer electronics requiring high efficiency and precise power management. Achieves high efficiency of over 94..Reduces standby and light-load operation current..Supports various circuit topologies with an MCU..Lowers total cost by reducing the number of components..'), Document(metadata={'image_path': './Winng_design_diagrams/block_diagram_7.svg', 'page_url': 'https://www.renesas.com/en/applications/consumer-electronics/home-theater-entertainment/mini-led-tv-backlight-unit-large-matrix'}, page_content='The real-time Arm Cortex-R4-based MPU enables control of a large matrix LED backlighting system for state-of-the-art TVs, paired with our high-precision 32-channel LED backlight driver. The integrated driver feedback channel dynamically minimizes overall power consumption by controlling the LED supply voltage level. The digital system and interface power are provided by a processor power management IC PMIC and a high-efficiency buck converter. The QSPI flash memory stores software and brightness mapping, while temperature sensors optimize performance under varying conditions. Flexible MPU-based, software-controlled, large matrix luminance and chrominance control..The MPU minimizes propagation delay between LED adjustment and video content, reducing the video buffer size..Dynamic LED supply voltage adjustment minimizes power loss..Highly integrated and efficient system PMIC..Single variable voltage rail from LLC to power LEDs and system power..Temperature sensor to optimize system performance..')]\n"
     ]
    },
    {
     "name": "stderr",
     "output_type": "stream",
     "text": [
      "\n"
     ]
    }
   ],
   "source": [
    "electronics = ['computing','home-theater-entertainment','power-adapters-chargers','wearables']\n",
    "devices_list = []\n",
    "for electronic in electronics:\n",
    "    base_url=f'https://www.renesas.com/en/applications/consumer-electronics/{electronic}'\n",
    "    headers = {\n",
    "        \"User-Agent\": \"Mozilla/5.0 (Windows NT 10.0; Win64; x64) AppleWebKit/537.36 (KHTML, like Gecko) Chrome/91.0.4472.124 Safari/537.36\"\n",
    "    }\n",
    "    response = requests.get(base_url, headers=headers)\n",
    "    print(response.status_code)\n",
    "    #print(response.text)\n",
    "    soup = BeautifulSoup(response.content, \"html.parser\")\n",
    "\n",
    "    app_list = soup.find('div', class_='application-category-list')\n",
    "\n",
    "    if app_list:\n",
    "        urls = [a['href'] for a in app_list.find_all('a', href=True)]\n",
    "\n",
    "        for idx in range(0, len(urls)):    \n",
    "            if '#' in urls:\n",
    "                urls.remove('#')\n",
    "            else:\n",
    "                break\n",
    "        for url in urls:\n",
    "            #print(url)\n",
    "            key_word = url.replace('/en/applications/consumer-electronics/{}'.format(electronic), '')\n",
    "            #print(key_word)\n",
    "\n",
    "            devices_list.append(base_url + key_word)\n",
    "\n",
    "print('Starting to prepare documents...')\n",
    "res=prepare_documents(devices_list)\n",
    "print(res)"
   ]
  },
  {
   "cell_type": "code",
   "execution_count": 93,
   "metadata": {},
   "outputs": [
    {
     "name": "stdout",
     "output_type": "stream",
     "text": [
      "[Document(metadata={'image_path': './Winng_design_diagrams/block_diagram_0.svg', 'page_url': 'https://www.renesas.com/en/applications/consumer-electronics/computing/ddr5-gaming-dimm'}, page_content='As gaming evolves, customization becomes paramount in the industry. Renesas addresses this demand with its DDR5 system, featuring serial presence detect SPD hubs, power management integrated circuits PMICs, temperature sensors, and a control MCU. This system enables extensive addressable RGB ARGB lighting customization with millions of colors, ensuring enhanced user experience and performance optimization. 48MHz Arm Cortex-M23 MCU provides an I3C interface up to 4.6Mbps..High precision, low power, and small footprint optimized for efficient operation in DDR5 RDIMMs, LRDIMMs, and high-end gaming DIMMs..SPD hub allows the DDR5 system control bus to scale significantly beyond previous generations and enables a new class of data center equipment..PMIC maximizes DDR5 memory performance, density, and reliability while reducing overall system power consumption..'),\n",
      " Document(metadata={'image_path': './Winng_design_diagrams/block_diagram_1.svg', 'page_url': 'https://www.renesas.com/en/applications/consumer-electronics/computing/pc-water-cooling-system-wireless-control'}, page_content='This advanced remotely controlled PC water cooler design integrates a high-efficiency power unit within the PC and features a user-friendly HMI control panel on the desk. Utilizing Bluetooth Low Energy LE for seamless connectivity, this setup offers convenient wireless control over the cooling system. The water cooler effectively dissipates heat from processors and critical components like graphics cards, ensuring optimal performance and reliability in high-performance computing environments. Wireless HMI provides flexibility and user convenience..Bluetooth LE enables smartphone control of the power unit, enhancing ease of use..The MCU manages simultaneous control of multiple pumps and fans, allowing flexibility in cooling configurations..'),\n",
      " Document(metadata={'image_path': './Winng_design_diagrams/block_diagram_2.svg', 'page_url': 'https://www.renesas.com/en/applications/consumer-electronics/computing/smart-pen'}, page_content='This smart pen system is used to record human handwriting and store a copy in a digital format. The pen uses one IR LED to emit light onto the paper and an LED sensor to detect the reflection. The sensor will allow the movement of the pens pattern to be detected and record what is written. The LED and detector records the pens movement.The IR LED is invisible, so the user will not be distracted by any light while writing.Bluetooth Low Energy LE on the pen would transfer the digital data from the pen to a computer or tablet.An EEPROM on board will store the writing in memory for transfer to a notebook.Buttons for audio recording to start and to power onoff the pen.'),\n",
      " Document(metadata={'image_path': './Winng_design_diagrams/block_diagram_3.svg', 'page_url': 'https://www.renesas.com/en/applications/consumer-electronics/home-theater-entertainment/soundbar-bluetooth-streaming'}, page_content='A soundbar, also called a speaker bar, is a special speaker with multiple drivers and is usually put above a computer monitor or under a television or home theater screen. It can significantly improve the sound experience without the complexity of surround sound speakers, wiring, etc. The Soundbar with Bluetooth Streaming design is meant to be compact, generate premium sound, and can be cost-effective. Cost-effective, small-capacity ROM and low pin count 32-bit MCU.High performance power includes voltage supervisors, dual buck regulators and a wide VIN 1A buck regulator.'),\n",
      " Document(metadata={'image_path': './Winng_design_diagrams/block_diagram_4.svg', 'page_url': 'https://www.renesas.com/en/applications/consumer-electronics/home-theater-entertainment/video-ip-phone'}, page_content='This solution is for a video IP phone with Hi-Fi audio support. The phone also has automatic noise cancellation and a voice wake-up function. The system supports large touch panel displays, eliminating the need for mechanical buttons, and provides a scalable IP communication platform. Multi-touch LCD screen with an on-screen virtual keyboard for easier communication.One USB Type-A and one USB Type-C for media storage.Integrated Wi-FiBluetooth.System supports multiple audio sources, handset, headset and speakerphone, and USB headset.Two Gigabit Ethernet available.OS for Linux and Android.Dual power option via 48V power supply or Power over Ethernet PoE.System can auto-detect the headphone plug in to simplify the design no software needed.System can auto-detect handset by a proximity sensor.'),\n",
      " Document(metadata={'image_path': './Winng_design_diagrams/block_diagram_5.svg', 'page_url': 'https://www.renesas.com/en/applications/consumer-electronics/home-theater-entertainment/edge-voice-user-interface-vui'}, page_content='This is an easy-to-use platform for Voice User Interface VUI solutions based on the RA family of 32-bit MCUs. The platform will be used for all VUI solutions provided by Renesas within the Renesas Ready Partner Network. The platform itself enables a local end-point inference voice recognition approach without the necessity of network connectivity. A VUI solution that consists primarily of an RA Arm Cortex-M33 MCU.Up to two digital microphones and two analog microphones.External QSPI flash provides the ability to store voice samples and library data.Communication interfacesPMOD interface Type-2A3A6AUSB Type-C and Micro-B.PMOD interface Type-2A3A6A.USB Type-C and Micro-B.On-board Segger J-Link debuggerprogrammer.'),\n",
      " Document(metadata={'image_path': './Winng_design_diagrams/block_diagram_6.svg', 'page_url': 'https://www.renesas.com/en/applications/consumer-electronics/home-theater-entertainment/high-efficiency-digital-power-supply'}, page_content='This design introduces the first interleaved CrM PFC  LLC power supply utilizing an inverter micro MCU by Renesas. It delivers three distinct output channels main power, audio power, and backlight unit power. The MCU provides digital control for all operations, achieving power efficiency that significantly surpasses conventional analog TV power supplies while maintaining ultra-low power consumption. This design is ideal for modern home theater systems and other consumer electronics requiring high efficiency and precise power management. Achieves high efficiency of over 94..Reduces standby and light-load operation current..Supports various circuit topologies with an MCU..Lowers total cost by reducing the number of components..'),\n",
      " Document(metadata={'image_path': './Winng_design_diagrams/block_diagram_7.svg', 'page_url': 'https://www.renesas.com/en/applications/consumer-electronics/home-theater-entertainment/mini-led-tv-backlight-unit-large-matrix'}, page_content='The real-time Arm Cortex-R4-based MPU enables control of a large matrix LED backlighting system for state-of-the-art TVs, paired with our high-precision 32-channel LED backlight driver. The integrated driver feedback channel dynamically minimizes overall power consumption by controlling the LED supply voltage level. The digital system and interface power are provided by a processor power management IC PMIC and a high-efficiency buck converter. The QSPI flash memory stores software and brightness mapping, while temperature sensors optimize performance under varying conditions. Flexible MPU-based, software-controlled, large matrix luminance and chrominance control..The MPU minimizes propagation delay between LED adjustment and video content, reducing the video buffer size..Dynamic LED supply voltage adjustment minimizes power loss..Highly integrated and efficient system PMIC..Single variable voltage rail from LLC to power LEDs and system power..Temperature sensor to optimize system performance..')]\n"
     ]
    }
   ],
   "source": [
    "pprint(res)"
   ]
  },
  {
   "cell_type": "code",
   "execution_count": null,
   "metadata": {},
   "outputs": [
    {
     "name": "stderr",
     "output_type": "stream",
     "text": [
      "/var/folders/4l/yl_ywzfd7zq4dvvthb6p9bg80000gn/T/ipykernel_98747/2200193825.py:6: LangChainDeprecationWarning: The class `HuggingFaceEmbeddings` was deprecated in LangChain 0.2.2 and will be removed in 1.0. An updated version of the class exists in the :class:`~langchain-huggingface package and should be used instead. To use it run `pip install -U :class:`~langchain-huggingface` and import as `from :class:`~langchain_huggingface import HuggingFaceEmbeddings``.\n",
      "  Bge_model_embeddings = HuggingFaceEmbeddings(model_name=\"BAAI/bge-large-en\", encode_kwargs={'normalize_embeddings': True})\n",
      "/opt/anaconda3/envs/GenAI/lib/python3.10/site-packages/tqdm/auto.py:21: TqdmWarning: IProgress not found. Please update jupyter and ipywidgets. See https://ipywidgets.readthedocs.io/en/stable/user_install.html\n",
      "  from .autonotebook import tqdm as notebook_tqdm\n"
     ]
    }
   ],
   "source": [
    "# Install the required packages\n",
    "#%pip install sentence-transformers\n",
    "#%pip install tf-keras\n",
    "\n",
    "#from langchain.embeddings import HuggingFaceEmbeddings\n",
    "Bge_model_embeddings = HuggingFaceEmbeddings(model_name=\"BAAI/bge-large-en\", encode_kwargs={'normalize_embeddings': True})"
   ]
  },
  {
   "cell_type": "code",
   "execution_count": null,
   "metadata": {},
   "outputs": [
    {
     "name": "stderr",
     "output_type": "stream",
     "text": [
      "100%|██████████| 8/8 [00:00<00:00, 6791.02it/s]\n"
     ]
    }
   ],
   "source": [
    "# Create a FAISS index\n",
    "vector_store = FAISS.from_documents(tqdm(res), Bge_model_embeddings)"
   ]
  },
  {
   "cell_type": "code",
   "execution_count": null,
   "metadata": {},
   "outputs": [
    {
     "name": "stdout",
     "output_type": "stream",
     "text": [
      "Content: This smart pen system is used to record human handwriting and store a copy in a digital format. The pen uses one IR LED to emit light onto the paper and an LED sensor to detect the reflection. The sensor will allow the movement of the pens pattern to be detected and record what is written. The LED and detector records the pens movement.The IR LED is invisible, so the user will not be distracted by any light while writing.Bluetooth Low Energy LE on the pen would transfer the digital data from the pen to a computer or tablet.An EEPROM on board will store the writing in memory for transfer to a notebook.Buttons for audio recording to start and to power onoff the pen.\n",
      "Metadata: {'image_path': './Winng_design_diagrams/block_diagram_2.svg', 'page_url': 'https://www.renesas.com/en/applications/consumer-electronics/computing/smart-pen'}\n",
      "---\n",
      "Content: This solution is for a video IP phone with Hi-Fi audio support. The phone also has automatic noise cancellation and a voice wake-up function. The system supports large touch panel displays, eliminating the need for mechanical buttons, and provides a scalable IP communication platform. Multi-touch LCD screen with an on-screen virtual keyboard for easier communication.One USB Type-A and one USB Type-C for media storage.Integrated Wi-FiBluetooth.System supports multiple audio sources, handset, headset and speakerphone, and USB headset.Two Gigabit Ethernet available.OS for Linux and Android.Dual power option via 48V power supply or Power over Ethernet PoE.System can auto-detect the headphone plug in to simplify the design no software needed.System can auto-detect handset by a proximity sensor.\n",
      "Metadata: {'image_path': './Winng_design_diagrams/block_diagram_4.svg', 'page_url': 'https://www.renesas.com/en/applications/consumer-electronics/home-theater-entertainment/video-ip-phone'}\n",
      "---\n"
     ]
    }
   ],
   "source": [
    "query = \"Get me regarding to the smart pen application\"\n",
    "query_embedding = Bge_model_embeddings.embed_query(query)\n",
    "\n",
    "# Perform a similarity search\n",
    "similar_docs = vector_store.similarity_search(query, k=2)\n",
    "\n",
    "for doc in similar_docs:\n",
    "    print(f\"Content: {doc.page_content}\")\n",
    "    print(f\"Metadata: {doc.metadata}\")\n",
    "    print(\"---\")\n"
   ]
  },
  {
   "cell_type": "code",
   "execution_count": null,
   "metadata": {},
   "outputs": [
    {
     "data": {
      "image/svg+xml": [
       "<svg xmlns=\"http://www.w3.org/2000/svg\" xmlns:ev=\"http://www.w3.org/2001/xml-events\" xmlns:v=\"http://schemas.microsoft.com/visio/2003/SVGExtensions/\" xmlns:xlink=\"http://www.w3.org/1999/xlink\" class=\"st19\" color-interpolation-filters=\"sRGB\" height=\"6.94444in\" viewbox=\"0 0 900 500\" width=\"12.5in\" xml:space=\"preserve\">\n",
       "<style type=\"text/css\">\n",
       "\t\n",
       "\t\t.st1 {stroke:#000000;stroke-width:1}\n",
       "\t\t.st2 {marker-end:url(#mrkr4-9);stroke:#000000;stroke-width:1}\n",
       "\t\t.st3 {fill:#000000;fill-opacity:1;stroke:#000000;stroke-opacity:1;stroke-width:0.28409090909091}\n",
       "\t\t.st4 {fill:#0071b9;stroke:none;stroke-linecap:round;stroke-linejoin:round;stroke-width:0.24}\n",
       "\t\t.st5 {fill:#ffffff;font-family:Arial;font-size:0.916672em}\n",
       "\t\t.st6 {marker-end:url(#mrkr4-9);marker-start:url(#mrkr4-44);stroke:#000000;stroke-width:1}\n",
       "\t\t.st7 {fill:#ffffff;stroke:#000000;stroke-width:1}\n",
       "\t\t.st8 {fill:#000000;font-family:Arial;font-size:0.916672em}\n",
       "\t\t.st9 {font-size:1em}\n",
       "\t\t.st10 {fill:none;stroke:none;stroke-linecap:round;stroke-linejoin:round;stroke-width:0.72}\n",
       "\t\t.st11 {fill:#000000;font-family:Arial;font-size:0.833336em}\n",
       "\t\t.st12 {fill:none;stroke:#000000;stroke-linecap:round;stroke-linejoin:round;stroke-width:1}\n",
       "\t\t.st13 {fill:#000000;stroke:none;stroke-linecap:butt;stroke-width:0.75}\n",
       "\t\t.st14 {stroke:#000000;stroke-linecap:round;stroke-linejoin:round;stroke-width:1}\n",
       "\t\t.st15 {fill:#4ba3d3;stroke:none;stroke-linecap:round;stroke-linejoin:round;stroke-width:0.24}\n",
       "\t\t.st16 {fill:#ffffff;font-family:Arial;font-size:0.833336em}\n",
       "\t\t.st17 {baseline-shift:32.4947%;font-size:0.649894em}\n",
       "\t\t.st18 {fill:#ffffff;stroke:#000000;stroke-linecap:round;stroke-linejoin:round;stroke-width:1}\n",
       "\t\t.st19 {fill:none;fill-rule:evenodd;font-size:12px;overflow:visible;stroke-linecap:square;stroke-miterlimit:3}\n",
       "\t\n",
       "\t</style>\n",
       "<defs id=\"Markers\">\n",
       "<g id=\"lend4\">\n",
       "<path d=\"M 2 1 L 0 0 L 2 -1 L 2 1 \" style=\"stroke:none\"/>\n",
       "</g>\n",
       "<marker class=\"st3\" id=\"mrkr4-9\" markerunits=\"strokeWidth\" orient=\"auto\" overflow=\"visible\" refx=\"-7.04\" v:arrowsize=\"2\" v:arrowtype=\"4\" v:setback=\"7.04\">\n",
       "<use transform=\"scale(-3.52,-3.52) \" xlink:href=\"#lend4\"/>\n",
       "</marker>\n",
       "<marker class=\"st3\" id=\"mrkr4-44\" markerunits=\"strokeWidth\" orient=\"auto\" overflow=\"visible\" refx=\"6.68\" v:arrowsize=\"2\" v:arrowtype=\"4\" v:setback=\"6.68\">\n",
       "<use transform=\"scale(3.52) \" xlink:href=\"#lend4\"/>\n",
       "</marker>\n",
       "</defs>\n",
       "<g v:groupcontext=\"foregroundPage\" v:index=\"1\" v:mid=\"8\">\n",
       "<title>Template 1</title>\n",
       "<g id=\"shape56-1\" transform=\"translate(319.756,-86.1562)\" v:groupcontext=\"shape\" v:layermember=\"1\" v:mid=\"56\">\n",
       "<title>Connector Line.56</title>\n",
       "<path class=\"st1\" d=\"M12.5 503.84 L12.5 521.16\"/>\n",
       "</g>\n",
       "<g id=\"shape44-4\" transform=\"translate(470,-82.3125)\" v:groupcontext=\"shape\" v:layermember=\"1\" v:mid=\"44\">\n",
       "<title>Connector Arrow.44</title>\n",
       "<path class=\"st2\" d=\"M0 500 L0 528.56 L-246.07 528.56\"/>\n",
       "</g>\n",
       "<g id=\"shape36-10\" transform=\"translate(243.888,-201.25)\" v:groupcontext=\"shape\" v:layermember=\"1\" v:mid=\"36\">\n",
       "<title>Connector Arrow.36</title>\n",
       "<path class=\"st2\" d=\"M0 502.5 L-77.62 502.5 L-77.62 515.46\"/>\n",
       "</g>\n",
       "<g id=\"shape23-15\" transform=\"translate(319.756,-186.453)\" v:groupcontext=\"shape\" v:layermember=\"1\" v:mid=\"23\">\n",
       "<title>Connector Arrow.23</title>\n",
       "<path class=\"st2\" d=\"M12.5 502.3 L12.5 515.66\"/>\n",
       "</g>\n",
       "<g id=\"shape33-20\" transform=\"translate(243.888,-239.156)\" v:groupcontext=\"shape\" v:layermember=\"1\" v:mid=\"33\">\n",
       "<title>Connector Arrow.33</title>\n",
       "<path class=\"st2\" d=\"M0 500 L-183.89 500 L-183.89 637.41 L-136.11 637.41\"/>\n",
       "</g>\n",
       "<a xlink:href=\"#buck\">\n",
       "<g id=\"shape3-25\" transform=\"translate(281.631,-413.252)\" v:groupcontext=\"shape\" v:mid=\"3\">\n",
       "<title>Buck</title>\n",
       "<desc>Buck Regulator</desc>\n",
       "<rect class=\"st4\" height=\"33.75\" width=\"101.25\" x=\"0\" y=\"466.25\"/>\n",
       "<text class=\"st5\" v:langid=\"1033\" x=\"13.02\" y=\"486.43\">Buck Regulator</text> </g>\n",
       "</a>\n",
       "<g id=\"shape9-28\" transform=\"translate(319.756,-482.25)\" v:groupcontext=\"shape\" v:layermember=\"1\" v:mid=\"9\">\n",
       "<title>Connector Arrow</title>\n",
       "<path class=\"st2\" d=\"M12.5 500 L12.5 528.21\"/>\n",
       "</g>\n",
       "<g id=\"shape10-33\" transform=\"translate(523.494,-389.135)\" v:groupcontext=\"shape\" v:layermember=\"1\" v:mid=\"10\">\n",
       "<title>Connector Arrow.10</title>\n",
       "<path class=\"st2\" d=\"M12.5 500 L12.5 524.19\"/>\n",
       "</g>\n",
       "<g id=\"shape11-38\" transform=\"translate(115.638,-54.8482)\" v:groupcontext=\"shape\" v:layermember=\"1\" v:mid=\"11\">\n",
       "<title>Connector Arrow.11</title>\n",
       "<path class=\"st6\" d=\"M-6.68 500 L-7.04 500 L-95.64 500 L-95.64 164.43 L494.36 164.43 L494.36 253.65\"/>\n",
       "</g>\n",
       "<g id=\"shape12-46\" transform=\"translate(457.5,-340.787)\" v:groupcontext=\"shape\" v:layermember=\"1\" v:mid=\"12\">\n",
       "<title>Connector Arrow.12</title>\n",
       "<path class=\"st2\" d=\"M12.5 500 L12.5 539.59\"/>\n",
       "</g>\n",
       "<g id=\"shape13-51\" transform=\"translate(523.494,-324.156)\" v:groupcontext=\"shape\" v:layermember=\"1\" v:mid=\"13\">\n",
       "<title>Connector Arrow.13</title>\n",
       "<path class=\"st2\" d=\"M12.5 500 L12.5 522.96\"/>\n",
       "</g>\n",
       "<g id=\"shape15-56\" transform=\"translate(319.756,-340.972)\" v:groupcontext=\"shape\" v:layermember=\"1\" v:mid=\"15\">\n",
       "<title>Connector Arrow.15</title>\n",
       "<path class=\"st2\" d=\"M12.5 500 L12.5 539.78\"/>\n",
       "</g>\n",
       "<g id=\"shape16-61\" transform=\"translate(485.369,-341.031)\" v:groupcontext=\"shape\" v:layermember=\"1\" v:mid=\"16\">\n",
       "<title>Connector Arrow.16</title>\n",
       "<path class=\"st2\" d=\"M0 500 L-445.37 500 L-445.37 764.78 L-376.77 764.78\"/>\n",
       "</g>\n",
       "<g id=\"shape17-66\" transform=\"translate(115.638,-133.955)\" v:groupcontext=\"shape\" v:mid=\"17\">\n",
       "<title>Bluetooth Stereo Audio Module</title>\n",
       "<desc>Bluetooth Stereo Audio Module</desc>\n",
       "<rect class=\"st7\" height=\"44.7949\" width=\"101.25\" x=\"0\" y=\"455.205\"/>\n",
       "<text class=\"st8\" v:langid=\"1033\" x=\"9.65\" y=\"474.3\">Bluetooth Stereo <tspan class=\"st9\" dy=\"1.2em\" x=\"16.99\">Audio Module</tspan></text> </g>\n",
       "<g id=\"shape18-70\" transform=\"translate(115.638,-43.75)\" v:groupcontext=\"shape\" v:mid=\"18\">\n",
       "<title>24bit Audio ADC</title>\n",
       "<desc>24bit Audio ADC</desc>\n",
       "<rect class=\"st7\" height=\"65\" width=\"101.25\" x=\"0\" y=\"435\"/>\n",
       "<text class=\"st8\" v:langid=\"1033\" x=\"9.96\" y=\"470.8\">24bit Audio ADC</text> </g>\n",
       "<g id=\"shape19-73\" transform=\"translate(216.888,-143.853)\" v:groupcontext=\"shape\" v:layermember=\"1\" v:mid=\"19\">\n",
       "<title>Connector Arrow.19</title>\n",
       "<path class=\"st2\" d=\"M0 487.5 L57.92 487.5\"/>\n",
       "</g>\n",
       "<g id=\"shape20-78\" transform=\"translate(216.888,-86.25)\" v:groupcontext=\"shape\" v:layermember=\"1\" v:mid=\"20\">\n",
       "<title>Connector Arrow.20</title>\n",
       "<path class=\"st2\" d=\"M0 487.5 L57.55 487.5\"/>\n",
       "</g>\n",
       "<g id=\"shape24-83\" transform=\"translate(523.494,-82.3125)\" v:groupcontext=\"shape\" v:layermember=\"1\" v:mid=\"24\">\n",
       "<title>Connector Arrow.24</title>\n",
       "<path class=\"st2\" d=\"M12.5 500 L12.5 523.77\"/>\n",
       "</g>\n",
       "<g id=\"shape34-88\" transform=\"translate(216.888,-261.25)\" v:groupcontext=\"shape\" v:layermember=\"1\" v:mid=\"34\">\n",
       "<title>Connector Arrow.34</title>\n",
       "<path class=\"st2\" d=\"M0 487.5 L20.15 487.5\"/>\n",
       "</g>\n",
       "<g id=\"shape37-93\" transform=\"translate(153.131,-341.031)\" v:groupcontext=\"shape\" v:layermember=\"1\" v:mid=\"37\">\n",
       "<title>Connector Arrow.37</title>\n",
       "<path class=\"st2\" d=\"M11.87 500 L13.13 500 L13.13 543.37\"/>\n",
       "</g>\n",
       "<g id=\"shape38-98\" transform=\"translate(130.263,-339.746)\" v:groupcontext=\"shape\" v:mid=\"38\">\n",
       "<title>3.3V</title>\n",
       "<desc>3.3V</desc>\n",
       "<rect class=\"st10\" height=\"20.0036\" width=\"72\" x=\"0\" y=\"479.996\"/>\n",
       "<text class=\"st11\" v:langid=\"1033\" x=\"25.71\" y=\"493\">3.3V</text> </g>\n",
       "<g id=\"shape39-101\" transform=\"translate(48,-53.7464)\" v:groupcontext=\"shape\" v:mid=\"39\">\n",
       "<title>3.3V.39</title>\n",
       "<desc>3.3V</desc>\n",
       "<rect class=\"st10\" height=\"20.0036\" width=\"72\" x=\"0\" y=\"479.996\"/>\n",
       "<text class=\"st11\" v:langid=\"1033\" x=\"25.71\" y=\"493\">3.3V</text> </g>\n",
       "<g id=\"shape40-104\" transform=\"translate(48,-33.75)\" v:groupcontext=\"shape\" v:mid=\"40\">\n",
       "<title>5V</title>\n",
       "<desc>5V</desc>\n",
       "<rect class=\"st10\" height=\"20.0036\" width=\"72\" x=\"0\" y=\"479.996\"/>\n",
       "<text class=\"st11\" v:langid=\"1033\" x=\"29.88\" y=\"493\">5V</text> </g>\n",
       "<g id=\"shape41-107\" transform=\"translate(214.092,-66.1456)\" v:groupcontext=\"shape\" v:layermember=\"1\" v:mid=\"41\">\n",
       "<title>Connector Line</title>\n",
       "<path class=\"st1\" d=\"M2.8 487.5 L22.2 487.5\"/>\n",
       "</g>\n",
       "<g id=\"shape42-110\" transform=\"translate(231.898,-68.7464)\" v:groupcontext=\"shape\" v:mid=\"42\">\n",
       "<title>3.3V.42</title>\n",
       "<desc>3.3V</desc>\n",
       "<rect class=\"st10\" height=\"20.0036\" width=\"36.204\" x=\"0\" y=\"479.996\"/>\n",
       "<text class=\"st11\" v:langid=\"1033\" x=\"7.82\" y=\"493\">3.3V</text> </g>\n",
       "<g id=\"shape50-113\" transform=\"translate(382.881,-110.531)\" v:groupcontext=\"shape\" v:layermember=\"1\" v:mid=\"50\">\n",
       "<title>Connector Arrow.50</title>\n",
       "<path class=\"st2\" d=\"M0 487.5 L57.58 487.5\"/>\n",
       "</g>\n",
       "<g id=\"shape51-118\" transform=\"translate(420.625,-226.25)\" v:groupcontext=\"shape\" v:layermember=\"1\" v:mid=\"51\">\n",
       "<title>Bi-directional</title>\n",
       "<path class=\"st6\" d=\"M6.68 487.5 L7.04 487.5 L20.11 487.5\"/>\n",
       "</g>\n",
       "<g id=\"shape54-125\" transform=\"translate(331.898,-293.75)\" v:groupcontext=\"shape\" v:mid=\"54\">\n",
       "<title>3.3V.54</title>\n",
       "<desc>3.3V</desc>\n",
       "<rect class=\"st10\" height=\"20.0036\" width=\"36.204\" x=\"0\" y=\"479.996\"/>\n",
       "<text class=\"st11\" v:langid=\"1033\" x=\"7.82\" y=\"493\">3.3V</text> </g>\n",
       "<g id=\"shape55-128\" transform=\"translate(331.699,-58.7464)\" v:groupcontext=\"shape\" v:mid=\"55\">\n",
       "<title>3.3V.55</title>\n",
       "<desc>3.3V</desc>\n",
       "<rect class=\"st10\" height=\"20.0036\" width=\"31.602\" x=\"0\" y=\"479.996\"/>\n",
       "<text class=\"st11\" v:langid=\"1033\" x=\"5.52\" y=\"493\">3.3V</text> </g>\n",
       "<g id=\"shape57-131\" transform=\"translate(333.075,-457.746)\" v:groupcontext=\"shape\" v:mid=\"57\">\n",
       "<title>+ HV (&lt;24Vdc)</title>\n",
       "<desc>+ HV (&lt;24Vdc)</desc>\n",
       "<rect class=\"st10\" height=\"20.0036\" width=\"76.925\" x=\"0\" y=\"479.996\"/>\n",
       "<text class=\"st11\" v:langid=\"1033\" x=\"5.39\" y=\"493\">+ HV (&lt;24Vdc)</text> </g>\n",
       "<g id=\"shape58-134\" transform=\"translate(319.756,-414.375)\" v:groupcontext=\"shape\" v:layermember=\"1\" v:mid=\"58\">\n",
       "<title>Connector Line.58</title>\n",
       "<path class=\"st1\" d=\"M12.5 501.12 L12.5 523.88\"/>\n",
       "</g>\n",
       "<g id=\"shape59-137\" transform=\"translate(420,-388.748)\" v:groupcontext=\"shape\" v:mid=\"59\">\n",
       "<title>3.3V.59</title>\n",
       "<desc>5V</desc>\n",
       "<rect class=\"st10\" height=\"20.0036\" width=\"36.204\" x=\"0\" y=\"479.996\"/>\n",
       "<text class=\"st11\" v:langid=\"1033\" x=\"11.99\" y=\"493\">5V</text> </g>\n",
       "<g id=\"shape60-140\" transform=\"translate(469.796,-293.75)\" v:groupcontext=\"shape\" v:mid=\"60\">\n",
       "<title>3.3V.60</title>\n",
       "<desc>3.3V</desc>\n",
       "<rect class=\"st10\" height=\"20.0036\" width=\"36.204\" x=\"0\" y=\"479.996\"/>\n",
       "<text class=\"st11\" v:langid=\"1033\" x=\"7.82\" y=\"493\">3.3V</text> </g>\n",
       "<g id=\"shape61-143\" transform=\"translate(535.898,-293.75)\" v:groupcontext=\"shape\" v:mid=\"61\">\n",
       "<title>1.8V</title>\n",
       "<desc>1.8V</desc>\n",
       "<rect class=\"st10\" height=\"20.0036\" width=\"32.204\" x=\"0\" y=\"479.996\"/>\n",
       "<text class=\"st11\" v:langid=\"1033\" x=\"5.82\" y=\"493\">1.8V</text> </g>\n",
       "<g id=\"shape62-146\" transform=\"translate(609.796,-293.75)\" v:groupcontext=\"shape\" v:mid=\"62\">\n",
       "<title>5V.62</title>\n",
       "<desc>5V</desc>\n",
       "<rect class=\"st10\" height=\"20.0036\" width=\"28.204\" x=\"0\" y=\"479.996\"/>\n",
       "<text class=\"st11\" v:langid=\"1033\" x=\"7.99\" y=\"493\">5V</text> </g>\n",
       "<g id=\"shape64-149\" transform=\"translate(752.5,-85.5589)\" v:groupcontext=\"shape\" v:mid=\"64\">\n",
       "<title>H-Bridge Power MOSFET</title>\n",
       "<desc>2x H-Bridge Power MOSFET</desc>\n",
       "<rect class=\"st7\" height=\"81.4375\" width=\"77.5\" x=\"0\" y=\"418.562\"/>\n",
       "<text class=\"st8\" v:langid=\"1033\" x=\"9.71\" y=\"449.38\">2x H-Bridge <tspan class=\"st9\" dy=\"1.2em\" x=\"23.16\">Power </tspan><tspan class=\"st9\" dy=\"1.2em\" x=\"15.83\">MOSFET</tspan></text> </g>\n",
       "<g id=\"shape65-154\" transform=\"translate(778.75,-202.454)\" v:groupcontext=\"shape\" v:layermember=\"1\" v:mid=\"65\">\n",
       "<title>Connector Arrow.65</title>\n",
       "<path class=\"st2\" d=\"M12.5 500 L12.5 528.42\"/>\n",
       "</g>\n",
       "<g id=\"shape66-159\" transform=\"translate(773.148,-201.746)\" v:groupcontext=\"shape\" v:mid=\"66\">\n",
       "<title>+ HV</title>\n",
       "<desc>+ HV</desc>\n",
       "<rect class=\"st10\" height=\"20.0036\" width=\"36.204\" x=\"0\" y=\"479.996\"/>\n",
       "<text class=\"st11\" v:langid=\"1033\" x=\"6.85\" y=\"493\">+ HV</text> </g>\n",
       "<g id=\"shape67-162\" transform=\"translate(624.362,-141.25)\" v:groupcontext=\"shape\" v:layermember=\"1\" v:mid=\"67\">\n",
       "<title>Connector Arrow.67</title>\n",
       "<path class=\"st2\" d=\"M0 487.5 L46.38 487.5\"/>\n",
       "</g>\n",
       "<g id=\"shape71-167\" transform=\"translate(1178.12,329.375) rotate(90)\" v:groupcontext=\"shape\" v:mid=\"71\">\n",
       "<title>Triangle</title>\n",
       "<path class=\"st12\" d=\"M33.75 500 L16.88 466.25 L0 500 L33.75 500 Z\"/>\n",
       "</g>\n",
       "<g id=\"shape73-169\" transform=\"translate(1178.12,384.375) rotate(90)\" v:groupcontext=\"shape\" v:mid=\"73\">\n",
       "<title>Triangle.73</title>\n",
       "<path class=\"st12\" d=\"M33.75 500 L16.88 466.25 L0 500 L33.75 500 Z\"/>\n",
       "</g>\n",
       "<g id=\"shape74-171\" transform=\"translate(650,-153.75)\" v:groupcontext=\"shape\" v:layermember=\"1\" v:mid=\"74\">\n",
       "<title>Connector Arrow.74</title>\n",
       "<path class=\"st2\" d=\"M0 500 L0 555 L21.08 555\"/>\n",
       "</g>\n",
       "<g id=\"shape76-176\" transform=\"translate(711.875,-141.25)\" v:groupcontext=\"shape\" v:layermember=\"1\" v:mid=\"76\">\n",
       "<title>Connector Arrow.76</title>\n",
       "<path class=\"st2\" d=\"M0 487.5 L33.46 487.5\"/>\n",
       "</g>\n",
       "<g id=\"shape77-181\" transform=\"translate(716.231,-86.25)\" v:groupcontext=\"shape\" v:layermember=\"1\" v:mid=\"77\">\n",
       "<title>Connector Arrow.77</title>\n",
       "<path class=\"st2\" d=\"M0 487.5 L29.1 487.5\"/>\n",
       "</g>\n",
       "<g id=\"shape78-186\" transform=\"translate(711.875,-95.9772) rotate(6.62316E-06)\" v:groupcontext=\"shape\" v:mid=\"78\">\n",
       "<title>Connector 2</title>\n",
       "<ellipse class=\"st12\" cx=\"2.06252\" cy=\"497.227\" rx=\"2.06252\" ry=\"2.77275\"/>\n",
       "</g>\n",
       "<g id=\"shape79-188\" transform=\"translate(828.812,-113.778)\" v:groupcontext=\"shape\" v:layermember=\"1\" v:mid=\"79\">\n",
       "<title>Connector Line.79</title>\n",
       "<path class=\"st1\" d=\"M1.19 487.5 L23.81 487.5\"/>\n",
       "</g>\n",
       "<g id=\"group80-191\" transform=\"translate(855.375,-112.718)\" v:groupcontext=\"group\" v:layermember=\"0\" v:mid=\"80\">\n",
       "<title>Speaker</title>\n",
       "<g id=\"group81-192\" v:groupcontext=\"group\" v:layermember=\"0\" v:mid=\"81\">\n",
       "<title>speaker_8_</title>\n",
       "<g id=\"shape82-193\" transform=\"translate(0,-7.62129)\" v:groupcontext=\"shape\" v:layermember=\"0\" v:mid=\"82\">\n",
       "<title>Sheet.82</title>\n",
       "<path class=\"st13\" d=\"M4.95 499.01 C4.95 499.51 4.45 500 3.96 500 L0.99 500 C0.49 500 0 499.51 0 499.01 L0 489.11 C-0 488.62          0.49 488.12 0.99 488.12 L3.96 488.12 C4.45 488.12 4.95 488.62 4.95 489.11 L4.95 499.01 Z\"/>\n",
       "</g>\n",
       "<g id=\"shape83-195\" transform=\"translate(6.92845,5.68434E-14)\" v:groupcontext=\"shape\" v:layermember=\"0\" v:mid=\"83\">\n",
       "<title>Sheet.83</title>\n",
       "<path class=\"st13\" d=\"M0.69 480.8 C0.3 481.19 0 481.99 0 482.48 L0 490.4 C0 490.89 0.3 491.69 0.69 492.08 L8.22 499.6 C8.61          500 8.91 499.9 8.91 499.31 L8.91 473.57 C8.91 473.08 8.61 472.88 8.22 473.28 L0.69 480.8 Z\"/>\n",
       "</g>\n",
       "</g>\n",
       "<g id=\"shape84-197\" transform=\"translate(18.4099,-8.71005)\" v:groupcontext=\"shape\" v:layermember=\"0\" v:mid=\"84\">\n",
       "<title>Sheet.84</title>\n",
       "<path class=\"st13\" d=\"M0.79 490.4 L0 492.08 C0.99 492.87 1.58 494.16 1.58 495.15 C1.58 496.44 0.99 497.62 0 498.42 L0.79 500 C2.28         498.91 3.27 497.13 3.27 495.15 C3.27 493.17 2.28 491.49 0.79 490.4 Z\"/>\n",
       "</g>\n",
       "<g id=\"shape85-199\" transform=\"translate(20.4884,-4.25605)\" v:groupcontext=\"shape\" v:layermember=\"0\" v:mid=\"85\">\n",
       "<title>Sheet.85</title>\n",
       "<path class=\"st13\" d=\"M0.89 481.49 L0 483.37 C2.47 484.96 4.16 487.73 4.16 490.7 C4.16 493.86 2.47 496.63 0 498.22 L0.89 500 C4.06         498.12 6.14 494.66 6.14 490.7 C6.14 486.74 4.06 483.37 0.89 481.49 Z\"/>\n",
       "</g>\n",
       "</g>\n",
       "<g id=\"group86-201\" transform=\"translate(808.53,-122.061)\" v:groupcontext=\"group\" v:mid=\"86\">\n",
       "<title>Vertical Wire Bundle</title>\n",
       "<g id=\"shape87-202\" transform=\"translate(0,-3.375)\" v:groupcontext=\"shape\" v:mid=\"87\">\n",
       "<title>Label Text 10pt.1046</title>\n",
       "<desc>2</desc>\n",
       "<rect class=\"st10\" height=\"20.0036\" width=\"68.3156\" x=\"0\" y=\"479.996\"/>\n",
       "<text class=\"st11\" v:langid=\"1033\" x=\"31.38\" y=\"493\">2</text> </g>\n",
       "<g id=\"shape88-205\" transform=\"translate(415.319,817.521) rotate(130.601)\" v:groupcontext=\"shape\" v:mid=\"88\">\n",
       "<title>Sheet.88</title>\n",
       "<path class=\"st14\" d=\"M0 500 L10.37 500\"/>\n",
       "</g>\n",
       "</g>\n",
       "<g id=\"group89-208\" transform=\"translate(605.684,-149.75)\" v:groupcontext=\"group\" v:mid=\"89\">\n",
       "<title>Vertical Wire Bundle.89</title>\n",
       "<g id=\"shape90-209\" transform=\"translate(0,-3.375)\" v:groupcontext=\"shape\" v:mid=\"90\">\n",
       "<title>Label Text 10pt.1046</title>\n",
       "<desc>2</desc>\n",
       "<rect class=\"st10\" height=\"20.0036\" width=\"68.3156\" x=\"0\" y=\"479.996\"/>\n",
       "<text class=\"st11\" v:langid=\"1033\" x=\"31.38\" y=\"493\">2</text> </g>\n",
       "<g id=\"shape91-212\" transform=\"translate(415.319,817.521) rotate(130.601)\" v:groupcontext=\"shape\" v:mid=\"91\">\n",
       "<title>Sheet.91</title>\n",
       "<path class=\"st14\" d=\"M0 500 L10.37 500\"/>\n",
       "</g>\n",
       "</g>\n",
       "<g id=\"shape92-215\" transform=\"translate(669.25,-55.75)\" v:groupcontext=\"shape\" v:mid=\"92\">\n",
       "<title>5V.92</title>\n",
       "<desc>5V</desc>\n",
       "<rect class=\"st10\" height=\"20.0036\" width=\"33.75\" x=\"0\" y=\"479.996\"/>\n",
       "<text class=\"st11\" v:langid=\"1033\" x=\"10.76\" y=\"493\">5V</text> </g>\n",
       "<g id=\"shape93-218\" transform=\"translate(674.029,-91.8281)\" v:groupcontext=\"shape\" v:layermember=\"1\" v:mid=\"93\">\n",
       "<title>Connector Line.93</title>\n",
       "<path class=\"st1\" d=\"M12.5 506.02 L12.5 518.98\"/>\n",
       "</g>\n",
       "<a xlink:href=\"#buck-regulator\">\n",
       "<g id=\"shape2-221\" transform=\"translate(485.369,-324.156)\" v:groupcontext=\"shape\" v:mid=\"2\">\n",
       "<title>Buck Regulator</title>\n",
       "<desc>Buck Regulator</desc>\n",
       "<rect class=\"st4\" height=\"33.75\" width=\"101.25\" x=\"0\" y=\"466.25\"/>\n",
       "<text class=\"st5\" v:langid=\"1033\" x=\"13.02\" y=\"486.43\">Buck Regulator</text> </g>\n",
       "</a>\n",
       "<a xlink:href=\"#voltage-supervisor\">\n",
       "<g id=\"shape4-224\" transform=\"translate(115.638,-256.875)\" v:groupcontext=\"shape\" v:mid=\"4\">\n",
       "<title>Voltage Supervisor</title>\n",
       "<desc>Voltage Supervisor</desc>\n",
       "<rect class=\"st4\" height=\"33.75\" width=\"101.25\" x=\"0\" y=\"466.25\"/>\n",
       "<text class=\"st5\" v:langid=\"1033\" x=\"4.15\" y=\"486.43\">Voltage Supervisor</text> </g>\n",
       "</a>\n",
       "<a xlink:href=\"#analog-switch\">\n",
       "<g id=\"shape5-227\" transform=\"translate(281.631,-82.3125)\" v:groupcontext=\"shape\" v:mid=\"5\">\n",
       "<title>Analog Switch</title>\n",
       "<desc>Analog Switch</desc>\n",
       "<rect class=\"st4\" height=\"81.4375\" width=\"101.25\" x=\"0\" y=\"418.562\"/>\n",
       "<text class=\"st5\" v:langid=\"1033\" x=\"15.77\" y=\"462.58\">Analog Switch</text> </g>\n",
       "</a>\n",
       "<a xlink:href=\"#eeprom\">\n",
       "<g id=\"shape7-230\" transform=\"translate(485.369,-17.75)\" v:groupcontext=\"shape\" v:mid=\"7\">\n",
       "<title>EEPROM</title>\n",
       "<desc>EEPROM</desc>\n",
       "<rect class=\"st4\" height=\"33.75\" width=\"101.25\" x=\"0\" y=\"466.25\"/>\n",
       "<text class=\"st5\" v:langid=\"1033\" x=\"26.79\" y=\"486.43\">EEPROM</text> </g>\n",
       "</a>\n",
       "<a xlink:href=\"#mcu\">\n",
       "<g id=\"group53-233\" transform=\"translate(243.888,-184.156)\" v:groupcontext=\"group\" v:mid=\"53\">\n",
       "<title>Sheet.53</title>\n",
       "<g id=\"shape8-234\" v:groupcontext=\"shape\" v:mid=\"8\">\n",
       "<title>MCU</title>\n",
       "<desc>MCU</desc>\n",
       "<rect class=\"st4\" height=\"110\" width=\"176.737\" x=\"0\" y=\"390\"/>\n",
       "<text class=\"st5\" v:langid=\"1033\" x=\"75.84\" y=\"450.3\">MCU</text> </g>\n",
       "<g id=\"shape25-237\" transform=\"translate(3.90848,-79.7784)\" v:groupcontext=\"shape\" v:mid=\"25\">\n",
       "<title>RST</title>\n",
       "<desc>RST</desc>\n",
       "<rect class=\"st15\" height=\"19.6306\" width=\"36.204\" x=\"0\" y=\"480.369\"/>\n",
       "<text class=\"st16\" v:langid=\"1033\" x=\"8.1\" y=\"493.18\">RST</text> </g>\n",
       "<g id=\"shape26-240\" transform=\"translate(3.90848,-44.9632)\" v:groupcontext=\"shape\" v:mid=\"26\">\n",
       "<title>DAC</title>\n",
       "<desc>DAC</desc>\n",
       "<rect class=\"st15\" height=\"19.6306\" width=\"36.204\" x=\"0\" y=\"480.369\"/>\n",
       "<text class=\"st16\" v:langid=\"1033\" x=\"7.55\" y=\"493.18\">DAC</text> </g>\n",
       "<g id=\"shape27-243\" transform=\"translate(3.90848,-3.96316)\" v:groupcontext=\"shape\" v:mid=\"27\">\n",
       "<title>SCI</title>\n",
       "<desc>SCI</desc>\n",
       "<rect class=\"st15\" height=\"19.6306\" width=\"36.204\" x=\"0\" y=\"480.369\"/>\n",
       "<text class=\"st16\" v:langid=\"1033\" x=\"9.77\" y=\"493.18\">SCI</text> </g>\n",
       "<g id=\"shape28-246\" transform=\"translate(69.9085,-3.96316)\" v:groupcontext=\"shape\" v:mid=\"28\">\n",
       "<title>GPIO</title>\n",
       "<desc>GPIO</desc>\n",
       "<rect class=\"st15\" height=\"19.6306\" width=\"36.204\" x=\"0\" y=\"480.369\"/>\n",
       "<text class=\"st16\" v:langid=\"1033\" x=\"5.6\" y=\"493.18\">GPIO</text> </g>\n",
       "<g id=\"shape29-249\" transform=\"translate(136.112,-44.9632)\" v:groupcontext=\"shape\" v:mid=\"29\">\n",
       "<title>I2C</title>\n",
       "<desc>I2C</desc>\n",
       "<rect class=\"st15\" height=\"19.6306\" width=\"36.204\" x=\"0\" y=\"480.369\"/>\n",
       "<text class=\"st16\" v:langid=\"1033\" x=\"11.29\" y=\"493.18\">I<tspan class=\"st17\" dy=\"-0.235em\" v:basefontsize=\"10\">2</tspan><tspan class=\"st9\" dy=\"0.153em\">C</tspan></text> </g>\n",
       "</g>\n",
       "</a>\n",
       "<g id=\"shape1-254\" transform=\"translate(447.625,-82.3125)\" v:groupcontext=\"shape\" v:mid=\"1\">\n",
       "<title>Audio Processor</title>\n",
       "<desc>Audio Processor</desc>\n",
       "<rect class=\"st18\" height=\"211.844\" width=\"176.737\" x=\"0\" y=\"288.156\"/>\n",
       "<text class=\"st8\" v:langid=\"1033\" x=\"48.02\" y=\"399.38\">Audio Processor</text> </g>\n",
       "<g id=\"shape35-257\" transform=\"translate(451.898,-229.119)\" v:groupcontext=\"shape\" v:mid=\"35\">\n",
       "<title>I2C.35</title>\n",
       "<desc>I2C</desc>\n",
       "<rect class=\"st18\" height=\"19.6306\" width=\"36.204\" x=\"0\" y=\"480.369\"/>\n",
       "<text class=\"st11\" v:langid=\"1033\" x=\"11.29\" y=\"493.18\">I<tspan class=\"st17\" dy=\"-0.235em\" v:basefontsize=\"10\">2</tspan><tspan class=\"st9\" dy=\"0.153em\">C</tspan></text> </g>\n",
       "<g id=\"shape45-262\" transform=\"translate(451.898,-85.9347)\" v:groupcontext=\"shape\" v:mid=\"45\">\n",
       "<title>MCLK</title>\n",
       "<desc>MCLK</desc>\n",
       "<rect class=\"st18\" height=\"19.6306\" width=\"36.204\" x=\"0\" y=\"480.369\"/>\n",
       "<text class=\"st11\" v:langid=\"1033\" x=\"4.21\" y=\"493.18\">MCLK</text> </g>\n",
       "<g id=\"shape47-265\" transform=\"translate(517.892,-85.9347)\" v:groupcontext=\"shape\" v:mid=\"47\">\n",
       "<title>I2C.47</title>\n",
       "<desc>I2C</desc>\n",
       "<rect class=\"st18\" height=\"19.6306\" width=\"36.204\" x=\"0\" y=\"480.369\"/>\n",
       "<text class=\"st11\" v:langid=\"1033\" x=\"11.29\" y=\"493.18\">I<tspan class=\"st17\" dy=\"-0.235em\" v:basefontsize=\"10\">2</tspan><tspan class=\"st9\" dy=\"0.153em\">C</tspan></text> </g>\n",
       "<g id=\"shape48-270\" transform=\"translate(451.898,-113.119)\" v:groupcontext=\"shape\" v:mid=\"48\">\n",
       "<title>PCM</title>\n",
       "<desc>PCM</desc>\n",
       "<rect class=\"st18\" height=\"19.6306\" width=\"36.204\" x=\"0\" y=\"480.369\"/>\n",
       "<text class=\"st11\" v:langid=\"1033\" x=\"6.99\" y=\"493.18\">PCM</text> </g>\n",
       "<g id=\"shape52-273\" transform=\"translate(581.898,-143.935)\" v:groupcontext=\"shape\" v:mid=\"52\">\n",
       "<title>PWM</title>\n",
       "<desc>PWM</desc>\n",
       "<rect class=\"st18\" height=\"19.6306\" width=\"36.204\" x=\"0\" y=\"480.369\"/>\n",
       "<text class=\"st11\" v:langid=\"1033\" x=\"5.88\" y=\"493.18\">PWM</text> </g>\n",
       "<g id=\"shape95-276\" transform=\"translate(810,-10)\" v:groupcontext=\"shape\" v:mid=\"95\">\n",
       "<title>US061</title>\n",
       "<desc>US061</desc>\n",
       "<rect class=\"st10\" height=\"20.0036\" width=\"72\" x=\"0\" y=\"479.996\"/>\n",
       "<text class=\"st11\" v:langid=\"1033\" x=\"37.42\" y=\"493\">US061</text> </g>\n",
       "</g>\n",
       "</svg>"
      ],
      "text/plain": [
       "<IPython.core.display.SVG object>"
      ]
     },
     "metadata": {},
     "output_type": "display_data"
    }
   ],
   "source": [
    "# Display the svg formatted block diagram\n",
    "from IPython.display import display, SVG\n",
    "\n",
    "with open(\"block_diagram.svg\", \"r\", encoding=\"utf-8\") as f:\n",
    "    svg_data = f.read()\n",
    "\n",
    "# Display raw SVG data\n",
    "display(SVG(data=svg_data))\n"
   ]
  }
 ],
 "metadata": {
  "kernelspec": {
   "display_name": "GenAI",
   "language": "python",
   "name": "python3"
  },
  "language_info": {
   "codemirror_mode": {
    "name": "ipython",
    "version": 3
   },
   "file_extension": ".py",
   "mimetype": "text/x-python",
   "name": "python",
   "nbconvert_exporter": "python",
   "pygments_lexer": "ipython3",
   "version": "3.10.16"
  }
 },
 "nbformat": 4,
 "nbformat_minor": 2
}
